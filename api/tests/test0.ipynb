{
  "cells": [
    {
      "cell_type": "code",
      "metadata": {
        "gm": {
          "top": 0,
          "left": 0,
          "height": 0,
          "width": 0,
          "previous": [],
          "next": [
            "AVxtEHCu"
          ]
        }
      },
      "source": [
        "from IPython.display import Markdown\n",
        "print(\"somemore\")\n",
        "display(Markdown(\"herer\"))\n",
        "print(\"here\")"
      ],
      "outputs": [
        {
          "name": "stdout",
          "output_type": "stream",
          "text": [
            "somemore\n"
          ]
        },
        {
          "data": {
            "text/markdown": [
              "herer"
            ],
            "text/plain": [
              "<IPython.core.display.Markdown object>"
            ]
          },
          "metadata": {},
          "output_type": "display_data"
        },
        {
          "name": "stdout",
          "output_type": "stream",
          "text": [
            "here\n"
          ]
        }
      ],
      "execution_count": 1,
      "id": "x4tHw4um"
    },
    {
      "cell_type": "code",
      "metadata": {
        "gm": {
          "top": 0,
          "left": 0,
          "height": 0,
          "width": 0,
          "previous": [
            "x4tHw4um"
          ],
          "next": []
        }
      },
      "source": [
        "print(\"somemore\")"
      ],
      "outputs": [
        {
          "name": "stdout",
          "output_type": "stream",
          "text": [
            "somemore\n"
          ]
        }
      ],
      "execution_count": 2,
      "id": "AVxtEHCu"
    }
  ],
  "metadata": {
    "kernelspec": {
      "display_name": "ganimede",
      "language": "python",
      "name": "python3"
    },
    "language_info": {
      "codemirror_mode": {
        "name": "ipython",
        "version": 3
      },
      "file_extension": ".py",
      "mimetype": "text/x-python",
      "name": "python",
      "nbconvert_exporter": "python",
      "pygments_lexer": "ipython3",
      "version": "3.11.1"
    },
    "orig_nbformat": 4,
    "vscode": {
      "interpreter": {
        "hash": "f849d9c2a9b40a3c50f35f89282ac4b1cb939f81a9c108cea36ea4152d4fc4ab"
      }
    },
    "gm": {
      "canvas": {
        "scroll": {
          "x": 0,
          "y": 0
        },
        "zoom": 1
      },
      "id_map": {
        "x4tHw4um": 0,
        "AVxtEHCu": 1
      }
    }
  },
  "nbformat": 4,
  "nbformat_minor": 2
}