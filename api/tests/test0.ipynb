{
    "cells": [
        {
            "cell_type": "code",
            "execution_count": 1,
            "id": "s0gIE8O9",
            "metadata": {
                "gm": {
                    "top": 100,
                    "left": 0,
                    "height": 0,
                    "width": 0,
                    "previous": [],
                    "next": [
                        "sMDeXCeA"
                    ]
                }
            },
            "outputs": [
                {
                    "name": "stdout",
                    "output_type": "stream",
                    "text": [
                        "Hello There!\n"
                    ]
                }
            ],
            "source": [
                "print(\"Hello There!\")"
            ]
        },
        {
            "cell_type": "code",
            "execution_count": null,
            "metadata": {
                "gm": {
                    "top": 100,
                    "left": 0,
                    "height": 0,
                    "width": 0,
                    "previous": [
                        "s0gIE8O9"
                    ],
                    "next": []
                }
            },
            "outputs": [],
            "source": [
                "print(\"more printing\")"
            ],
            "id": "sMDeXCeA"
        }
    ],
    "metadata": {
        "gm": {
            "canvas": {
                "scroll": {
                    "x": 0,
                    "y": 0
                },
                "zoom": 1
            },
            "id_map": {
                "s0gIE8O9": 0,
                "sMDeXCeA": 1
            }
        },
        "kernelspec": {
            "display_name": "ganimede",
            "language": "python",
            "name": "python3"
        },
        "language_info": {
            "codemirror_mode": {
                "name": "ipython",
                "version": 3
            },
            "file_extension": ".py",
            "mimetype": "text/x-python",
            "name": "python",
            "nbconvert_exporter": "python",
            "pygments_lexer": "ipython3",
            "version": "3.11.1"
        },
        "orig_nbformat": 4,
        "vscode": {
            "interpreter": {
                "hash": "f849d9c2a9b40a3c50f35f89282ac4b1cb939f81a9c108cea36ea4152d4fc4ab"
            }
        }
    },
    "nbformat": 4,
    "nbformat_minor": 2
}