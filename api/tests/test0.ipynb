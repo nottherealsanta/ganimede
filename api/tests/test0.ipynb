{
 "cells": [
  {
   "cell_type": "code",
   "execution_count": 1,
   "metadata": {},
   "outputs": [
    {
     "name": "stdout",
     "output_type": "stream",
     "text": [
      "Hello There!\n"
     ]
    }
   ],
   "source": [
    "print(\"Hello There!\")"
   ]
  }
 ],
 "metadata": {
  "kernelspec": {
   "display_name": "ganimede",
   "language": "python",
   "name": "python3"
  },
  "language_info": {
   "codemirror_mode": {
    "name": "ipython",
    "version": 3
   },
   "file_extension": ".py",
   "mimetype": "text/x-python",
   "name": "python",
   "nbconvert_exporter": "python",
   "pygments_lexer": "ipython3",
   "version": "3.11.1"
  },
  "orig_nbformat": 4,
  "vscode": {
   "interpreter": {
    "hash": "f849d9c2a9b40a3c50f35f89282ac4b1cb939f81a9c108cea36ea4152d4fc4ab"
   }
  }
 },
 "nbformat": 4,
 "nbformat_minor": 2
}
