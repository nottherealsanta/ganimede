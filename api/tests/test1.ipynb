{
    "cells": [
        {
            "cell_type": "code",
            "execution_count": 2,
            "id": "RyV6RN3G",
            "metadata": {
                "jupyflow": {
                    "height": 0,
                    "left": 0,
                    "next": [
                        "wqD4rG4l"
                    ],
                    "previous": [],
                    "top": 100,
                    "width": 0
                }
            },
            "outputs": [
                {
                    "data": {
                        "text/plain": [
                            "4"
                        ]
                    },
                    "execution_count": 2,
                    "metadata": {},
                    "output_type": "execute_result"
                }
            ],
            "source": [
                "2+2"
            ]
        },
        {
            "cell_type": "code",
            "execution_count": 1,
            "id": "wqD4rG4l",
            "metadata": {
                "jupyflow": {
                    "height": 0,
                    "left": 0,
                    "next": [
                        "b0j88qz4"
                    ],
                    "previous": [
                        "RyV6RN3G"
                    ],
                    "top": 100,
                    "width": 0
                }
            },
            "outputs": [],
            "source": [
                "import math\n",
                "\n",
                "def goldenRatio(n):\n",
                "    return ((1 + math.sqrt(5))/2) * round(goldenRatio(1), 3) == 1.618"
            ]
        },
        {
            "cell_type": "code",
            "execution_count": 1,
            "id": "b0j88qz4",
            "metadata": {
                "jupyflow": {
                    "height": 0,
                    "left": 0,
                    "next": [
                        "DqkqC5pZ"
                    ],
                    "previous": [
                        "wqD4rG4l"
                    ],
                    "top": 0,
                    "width": 0
                }
            },
            "outputs": [
                {
                    "name": "stdout",
                    "output_type": "stream",
                    "text": [
                        "stuff\n",
                        "more stuff\n"
                    ]
                }
            ],
            "source": [
                "print(\"stuff\")\n",
                "print(\"more stuff\")\n",
                "print(\"some more stuff\")"
            ]
        },
        {
            "cell_type": "code",
            "execution_count": 1,
            "id": "DqkqC5pZ",
            "metadata": {
                "jupyflow": {
                    "height": 0,
                    "left": 0,
                    "next": [
                        "uzCwAu2c"
                    ],
                    "previous": [
                        "b0j88qz4"
                    ],
                    "top": 0,
                    "width": 0
                }
            },
            "outputs": [
                {
                    "name": "stdout",
                    "output_type": "stream",
                    "text": [
                        "some more stuff\n"
                    ]
                }
            ],
            "source": [
                "print(\"some more stuff\")"
            ]
        },
        {
            "cell_type": "code",
            "execution_count": 2,
            "id": "uzCwAu2c",
            "metadata": {
                "jupyflow": {
                    "height": 0,
                    "left": 0,
                    "next": [
                        "usr6uKeM"
                    ],
                    "previous": [
                        "DqkqC5pZ"
                    ],
                    "top": 0,
                    "width": 0
                }
            },
            "outputs": [],
            "source": [
                "from time import sleep\n",
                "sleep(2)\n",
                "sleep(3)"
            ]
        },
        {
            "cell_type": "code",
            "execution_count": 1,
            "id": "usr6uKeM",
            "metadata": {
                "jupyflow": {
                    "height": 0,
                    "left": 0,
                    "next": [
                        "ar5EsnYF"
                    ],
                    "previous": [
                        "uzCwAu2c"
                    ],
                    "top": 0,
                    "width": 0
                }
            },
            "outputs": [
                {
                    "ename": "SyntaxError",
                    "evalue": "invalid syntax (2715196124.py, line 2)",
                    "output_type": "error",
                    "traceback": [
                        "\u001b[0;36m  Cell \u001b[0;32mIn[1], line 2\u001b[0;36m\u001b[0m\n\u001b[0;31m    this is a syntax error\u001b[0m\n\u001b[0m              ^\u001b[0m\n\u001b[0;31mSyntaxError\u001b[0m\u001b[0;31m:\u001b[0m invalid syntax\n"
                    ]
                }
            ],
            "source": [
                "print(\"hi\")\n",
                "this is a syntax error"
            ]
        },
        {
            "cell_type": "code",
            "execution_count": 2,
            "id": "ar5EsnYF",
            "metadata": {
                "jupyflow": {
                    "height": 0,
                    "left": 0,
                    "next": [
                        "jCVgeAOU"
                    ],
                    "previous": [
                        "usr6uKeM"
                    ],
                    "top": 0,
                    "width": 0
                }
            },
            "outputs": [
                {
                    "data": {
                        "text/html": [
                            "<div>\n",
                            "<style scoped>\n",
                            "    .dataframe tbody tr th:only-of-type {\n",
                            "        vertical-align: middle;\n",
                            "    }\n",
                            "\n",
                            "    .dataframe tbody tr th {\n",
                            "        vertical-align: top;\n",
                            "    }\n",
                            "\n",
                            "    .dataframe thead th {\n",
                            "        text-align: right;\n",
                            "    }\n",
                            "</style>\n",
                            "<table border=\"1\" class=\"dataframe\">\n",
                            "  <thead>\n",
                            "    <tr style=\"text-align: right;\">\n",
                            "      <th></th>\n",
                            "      <th>0</th>\n",
                            "      <th>1</th>\n",
                            "      <th>2</th>\n",
                            "      <th>3</th>\n",
                            "      <th>4</th>\n",
                            "      <th>5</th>\n",
                            "      <th>6</th>\n",
                            "      <th>7</th>\n",
                            "      <th>8</th>\n",
                            "      <th>9</th>\n",
                            "    </tr>\n",
                            "  </thead>\n",
                            "  <tbody>\n",
                            "    <tr>\n",
                            "      <th>0</th>\n",
                            "      <td>0.646706</td>\n",
                            "      <td>1.879830</td>\n",
                            "      <td>1.416933</td>\n",
                            "      <td>1.396124</td>\n",
                            "      <td>-1.634056</td>\n",
                            "      <td>1.368022</td>\n",
                            "      <td>1.363696</td>\n",
                            "      <td>0.513759</td>\n",
                            "      <td>0.050784</td>\n",
                            "      <td>-0.390435</td>\n",
                            "    </tr>\n",
                            "    <tr>\n",
                            "      <th>1</th>\n",
                            "      <td>0.214800</td>\n",
                            "      <td>-0.009921</td>\n",
                            "      <td>1.161751</td>\n",
                            "      <td>-0.578745</td>\n",
                            "      <td>-1.623294</td>\n",
                            "      <td>0.040861</td>\n",
                            "      <td>0.852814</td>\n",
                            "      <td>-0.604916</td>\n",
                            "      <td>-0.911099</td>\n",
                            "      <td>0.720630</td>\n",
                            "    </tr>\n",
                            "    <tr>\n",
                            "      <th>2</th>\n",
                            "      <td>-0.590474</td>\n",
                            "      <td>-1.839260</td>\n",
                            "      <td>0.762544</td>\n",
                            "      <td>0.931058</td>\n",
                            "      <td>-1.214288</td>\n",
                            "      <td>2.618878</td>\n",
                            "      <td>0.451108</td>\n",
                            "      <td>1.593960</td>\n",
                            "      <td>0.614371</td>\n",
                            "      <td>0.626014</td>\n",
                            "    </tr>\n",
                            "    <tr>\n",
                            "      <th>3</th>\n",
                            "      <td>-1.126695</td>\n",
                            "      <td>1.649993</td>\n",
                            "      <td>-0.144732</td>\n",
                            "      <td>1.539995</td>\n",
                            "      <td>1.222392</td>\n",
                            "      <td>1.118542</td>\n",
                            "      <td>1.270621</td>\n",
                            "      <td>0.163655</td>\n",
                            "      <td>-0.415446</td>\n",
                            "      <td>1.056861</td>\n",
                            "    </tr>\n",
                            "    <tr>\n",
                            "      <th>4</th>\n",
                            "      <td>-1.654029</td>\n",
                            "      <td>0.318280</td>\n",
                            "      <td>0.151574</td>\n",
                            "      <td>1.024422</td>\n",
                            "      <td>0.815048</td>\n",
                            "      <td>-0.192639</td>\n",
                            "      <td>0.024221</td>\n",
                            "      <td>-0.730260</td>\n",
                            "      <td>-1.549486</td>\n",
                            "      <td>0.025960</td>\n",
                            "    </tr>\n",
                            "    <tr>\n",
                            "      <th>5</th>\n",
                            "      <td>0.121157</td>\n",
                            "      <td>0.784963</td>\n",
                            "      <td>1.134158</td>\n",
                            "      <td>1.595691</td>\n",
                            "      <td>0.768379</td>\n",
                            "      <td>-1.017455</td>\n",
                            "      <td>-0.325432</td>\n",
                            "      <td>-0.483416</td>\n",
                            "      <td>0.849823</td>\n",
                            "      <td>-0.267906</td>\n",
                            "    </tr>\n",
                            "    <tr>\n",
                            "      <th>6</th>\n",
                            "      <td>-0.437379</td>\n",
                            "      <td>0.896317</td>\n",
                            "      <td>-3.986191</td>\n",
                            "      <td>-1.733356</td>\n",
                            "      <td>1.830323</td>\n",
                            "      <td>-0.209855</td>\n",
                            "      <td>0.930688</td>\n",
                            "      <td>-1.074716</td>\n",
                            "      <td>-2.279019</td>\n",
                            "      <td>0.564151</td>\n",
                            "    </tr>\n",
                            "    <tr>\n",
                            "      <th>7</th>\n",
                            "      <td>0.801659</td>\n",
                            "      <td>1.224421</td>\n",
                            "      <td>-0.269569</td>\n",
                            "      <td>0.238075</td>\n",
                            "      <td>-2.037683</td>\n",
                            "      <td>-0.214189</td>\n",
                            "      <td>1.532906</td>\n",
                            "      <td>0.007044</td>\n",
                            "      <td>-0.332627</td>\n",
                            "      <td>0.372825</td>\n",
                            "    </tr>\n",
                            "    <tr>\n",
                            "      <th>8</th>\n",
                            "      <td>2.368577</td>\n",
                            "      <td>-0.720843</td>\n",
                            "      <td>0.260648</td>\n",
                            "      <td>-0.508320</td>\n",
                            "      <td>0.864946</td>\n",
                            "      <td>-0.452361</td>\n",
                            "      <td>1.123870</td>\n",
                            "      <td>-0.160176</td>\n",
                            "      <td>1.361040</td>\n",
                            "      <td>0.711885</td>\n",
                            "    </tr>\n",
                            "    <tr>\n",
                            "      <th>9</th>\n",
                            "      <td>-1.395381</td>\n",
                            "      <td>0.392320</td>\n",
                            "      <td>-0.118664</td>\n",
                            "      <td>0.112608</td>\n",
                            "      <td>0.692754</td>\n",
                            "      <td>-0.003732</td>\n",
                            "      <td>0.616232</td>\n",
                            "      <td>-1.149470</td>\n",
                            "      <td>-0.419875</td>\n",
                            "      <td>-0.752200</td>\n",
                            "    </tr>\n",
                            "  </tbody>\n",
                            "</table>\n",
                            "</div>"
                        ],
                        "text/plain": [
                            "          0         1         2         3         4         5         6  \\\n",
                            "0  0.646706  1.879830  1.416933  1.396124 -1.634056  1.368022  1.363696   \n",
                            "1  0.214800 -0.009921  1.161751 -0.578745 -1.623294  0.040861  0.852814   \n",
                            "2 -0.590474 -1.839260  0.762544  0.931058 -1.214288  2.618878  0.451108   \n",
                            "3 -1.126695  1.649993 -0.144732  1.539995  1.222392  1.118542  1.270621   \n",
                            "4 -1.654029  0.318280  0.151574  1.024422  0.815048 -0.192639  0.024221   \n",
                            "5  0.121157  0.784963  1.134158  1.595691  0.768379 -1.017455 -0.325432   \n",
                            "6 -0.437379  0.896317 -3.986191 -1.733356  1.830323 -0.209855  0.930688   \n",
                            "7  0.801659  1.224421 -0.269569  0.238075 -2.037683 -0.214189  1.532906   \n",
                            "8  2.368577 -0.720843  0.260648 -0.508320  0.864946 -0.452361  1.123870   \n",
                            "9 -1.395381  0.392320 -0.118664  0.112608  0.692754 -0.003732  0.616232   \n",
                            "\n",
                            "          7         8         9  \n",
                            "0  0.513759  0.050784 -0.390435  \n",
                            "1 -0.604916 -0.911099  0.720630  \n",
                            "2  1.593960  0.614371  0.626014  \n",
                            "3  0.163655 -0.415446  1.056861  \n",
                            "4 -0.730260 -1.549486  0.025960  \n",
                            "5 -0.483416  0.849823 -0.267906  \n",
                            "6 -1.074716 -2.279019  0.564151  \n",
                            "7  0.007044 -0.332627  0.372825  \n",
                            "8 -0.160176  1.361040  0.711885  \n",
                            "9 -1.149470 -0.419875 -0.752200  "
                        ]
                    },
                    "execution_count": 2,
                    "metadata": {},
                    "output_type": "execute_result"
                }
            ],
            "source": [
                "import pandas as pd\n",
                "import numpy as np\n",
                "\n",
                "df = pd.DataFrame(np.random.randn(10, 10))\n",
                "df "
            ]
        },
        {
            "attachments": {},
            "cell_type": "markdown",
            "id": "jCVgeAOU",
            "metadata": {
                "jupyflow": {
                    "height": 0,
                    "left": 0,
                    "next": [
                        "hoq5-hE0"
                    ],
                    "previous": [
                        "ar5EsnYF"
                    ],
                    "top": 0,
                    "width": 0
                }
            },
            "source": [
                "### A Heading 3\n",
                "followed by some text"
            ]
        },
        {
            "cell_type": "code",
            "execution_count": 1,
            "id": "hoq5-hE0",
            "metadata": {
                "jupyflow": {
                    "height": 0,
                    "left": 0,
                    "next": [
                        "-HSF1mVd"
                    ],
                    "previous": [
                        "jCVgeAOU"
                    ],
                    "top": 0,
                    "width": 0
                }
            },
            "outputs": [
                {
                    "data": {
                        "text/plain": [
                            "'some things'"
                        ]
                    },
                    "metadata": {},
                    "output_type": "display_data"
                },
                {
                    "name": "stdout",
                    "output_type": "stream",
                    "text": [
                        "things\n"
                    ]
                },
                {
                    "data": {
                        "text/plain": [
                            "'more things'"
                        ]
                    },
                    "metadata": {},
                    "output_type": "display_data"
                },
                {
                    "name": "stdout",
                    "output_type": "stream",
                    "text": [
                        "more more things\n",
                        "more more more things \n",
                        " la la la\n",
                        "more more more more things  more\n"
                    ]
                }
            ],
            "source": [
                "display(\"some things\")\n",
                "print(\"things\")\n",
                "display(\"more things\")\n",
                "print(\"more more things\")\n",
                "print(\"more more more things \\n la la la\")\n",
                "print(\"more more more more things \", \"more\")"
            ]
        },
        {
            "cell_type": "code",
            "execution_count": null,
            "id": "-HSF1mVd",
            "metadata": {
                "jupyflow": {
                    "height": 0,
                    "left": 0,
                    "next": [],
                    "previous": [
                        "hoq5-hE0"
                    ],
                    "top": 100,
                    "width": 0
                }
            },
            "outputs": [],
            "source": []
        }
    ],
    "metadata": {
        "jupyflow": {
            "canvas": {
                "scroll": {
                    "x": 0,
                    "y": 0
                },
                "zoom": 1
            },
            "id_map": {
                "-HSF1mVd": 9,
                "DqkqC5pZ": 3,
                "RyV6RN3G": 0,
                "ar5EsnYF": 6,
                "b0j88qz4": 2,
                "hoq5-hE0": 8,
                "jCVgeAOU": 7,
                "usr6uKeM": 5,
                "uzCwAu2c": 4,
                "wqD4rG4l": 1
            }
        },
        "kernelspec": {
            "display_name": "jupyflow",
            "language": "python",
            "name": "python3"
        },
        "language_info": {
            "codemirror_mode": {
                "name": "ipython",
                "version": 3
            },
            "file_extension": ".py",
            "mimetype": "text/x-python",
            "name": "python",
            "nbconvert_exporter": "python",
            "pygments_lexer": "ipython3",
            "version": "3.11.1"
        },
        "orig_nbformat": 4,
        "vscode": {
            "interpreter": {
                "hash": "566aecfaef151c426b2c4574bf3a4b88399c987357f7809868a285613564ff66"
            }
        }
    },
    "nbformat": 4,
    "nbformat_minor": 2
}
