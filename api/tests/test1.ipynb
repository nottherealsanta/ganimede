{
  "cells": [
    {
      "cell_type": "markdown",
      "metadata": {
        "gm": {
          "top": 0,
          "left": 0,
          "height": 0,
          "width": 0,
          "previous": [],
          "next": [
            "ntu0hKqb"
          ],
          "parent": null,
          "children": [
            "ntu0hKqb",
            "KRa9vpIs",
            "Y5HeTERZ"
          ]
        }
      },
      "source": [
        "# Heading 1"
      ],
      "execution_count": null,
      "id": "pwjLUwFp"
    },
    {
      "cell_type": "markdown",
      "metadata": {
        "gm": {
          "top": 0,
          "left": 0,
          "height": 0,
          "width": 0,
          "previous": [
            "pwjLUwFp"
          ],
          "next": [
            "KRa9vpIs"
          ],
          "parent": "pwjLUwFp",
          "children": []
        }
      },
      "source": [
        "some more text"
      ],
      "execution_count": null,
      "id": "ntu0hKqb"
    },
    {
      "cell_type": "code",
      "metadata": {
        "gm": {
          "top": 0,
          "left": 0,
          "height": 0,
          "width": 0,
          "previous": [
            "ntu0hKqb"
          ],
          "next": [
            "Y5HeTERZ"
          ],
          "parent": "pwjLUwFp",
          "children": []
        }
      },
      "source": [
        "print(\"testing \")"
      ],
      "execution_count": 1,
      "id": "KRa9vpIs",
      "outputs": [
        {
          "name": "stdout",
          "output_type": "stream",
          "text": [
            "testing \n"
          ]
        }
      ]
    },
    {
      "cell_type": "markdown",
      "metadata": {
        "gm": {
          "top": 0,
          "left": 0,
          "height": 0,
          "width": 0,
          "previous": [
            "KRa9vpIs"
          ],
          "next": [
            "bgKdsyGn"
          ],
          "parent": "pwjLUwFp",
          "children": [
            "bgKdsyGn"
          ]
        }
      },
      "source": [
        "## Heading 2"
      ],
      "execution_count": null,
      "id": "Y5HeTERZ"
    },
    {
      "cell_type": "code",
      "metadata": {
        "gm": {
          "top": 0,
          "left": 0,
          "height": 0,
          "width": 0,
          "previous": [
            "Y5HeTERZ"
          ],
          "next": [],
          "parent": "Y5HeTERZ",
          "children": []
        }
      },
      "source": [
        "print(\"testing2\")"
      ],
      "execution_count": 2,
      "id": "bgKdsyGn",
      "outputs": [
        {
          "name": "stdout",
          "output_type": "stream",
          "text": [
            "testing2\n"
          ]
        }
      ]
    }
  ],
  "metadata": {
    "kernelspec": {
      "display_name": "ganimede",
      "language": "python",
      "name": "python3"
    },
    "language_info": {
      "codemirror_mode": {
        "name": "ipython",
        "version": 3
      },
      "file_extension": ".py",
      "mimetype": "text/x-python",
      "name": "python",
      "nbconvert_exporter": "python",
      "pygments_lexer": "ipython3",
      "version": "3.11.1"
    },
    "orig_nbformat": 4,
    "gm": {
      "canvas": {
        "scroll": {
          "x": 0,
          "y": 0
        },
        "zoom": 1
      },
      "id_map": {
        "pwjLUwFp": 0,
        "ntu0hKqb": 1,
        "KRa9vpIs": 2,
        "Y5HeTERZ": 3,
        "bgKdsyGn": 4
      }
    }
  },
  "nbformat": 4,
  "nbformat_minor": 2
}