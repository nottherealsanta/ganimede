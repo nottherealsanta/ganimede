{
    "cells": [
        {
            "cell_type": "code",
            "execution_count": 2,
            "id": "RyV6RN3G",
            "metadata": {
                "jupyflow": {
                    "height": 0,
                    "left": 0,
                    "next": [
                        "wqD4rG4l"
                    ],
                    "previous": [],
                    "top": 100,
                    "width": 0
                }
            },
            "outputs": [
                {
                    "data": {
                        "text/plain": [
                            "4"
                        ]
                    },
                    "execution_count": 2,
                    "metadata": {},
                    "output_type": "execute_result"
                }
            ],
            "source": [
                "2+2"
            ]
        },
        {
            "cell_type": "code",
            "execution_count": 1,
            "id": "wqD4rG4l",
            "metadata": {
                "jupyflow": {
                    "height": 0,
                    "left": 0,
                    "next": [
                        "b0j88qz4"
                    ],
                    "previous": [
                        "RyV6RN3G"
                    ],
                    "top": 100,
                    "width": 0
                }
            },
            "outputs": [],
            "source": [
                "import math\n",
                "\n",
                "def goldenRatio(n):\n",
                "    return ((1 + math.sqrt(5))/2) * round(goldenRatio(1), 3) == 1.618"
            ]
        },
        {
            "cell_type": "code",
            "execution_count": 1,
            "id": "b0j88qz4",
            "metadata": {
                "jupyflow": {
                    "height": 0,
                    "left": 0,
                    "next": [
                        "DqkqC5pZ"
                    ],
                    "previous": [
                        "wqD4rG4l"
                    ],
                    "top": 0,
                    "width": 0
                }
            },
            "outputs": [
                {
                    "name": "stdout",
                    "output_type": "stream",
                    "text": [
                        "stuff\n",
                        "more stuff\n"
                    ]
                }
            ],
            "source": [
                "print(\"stuff\")\n",
                "print(\"more stuff\")\n",
                "print(\"some more stuff\")"
            ]
        },
        {
            "cell_type": "code",
            "execution_count": 1,
            "id": "DqkqC5pZ",
            "metadata": {
                "jupyflow": {
                    "height": 0,
                    "left": 0,
                    "next": [
                        "uzCwAu2c"
                    ],
                    "previous": [
                        "b0j88qz4"
                    ],
                    "top": 0,
                    "width": 0
                }
            },
            "outputs": [
                {
                    "name": "stdout",
                    "output_type": "stream",
                    "text": [
                        "some more stuff\n"
                    ]
                }
            ],
            "source": [
                "print(\"some more stuff\")"
            ]
        },
        {
            "cell_type": "code",
            "execution_count": 2,
            "id": "uzCwAu2c",
            "metadata": {
                "jupyflow": {
                    "height": 0,
                    "left": 0,
                    "next": [
                        "usr6uKeM"
                    ],
                    "previous": [
                        "DqkqC5pZ"
                    ],
                    "top": 0,
                    "width": 0
                }
            },
            "outputs": [],
            "source": [
                "from time import sleep\n",
                "sleep(2)\n",
                "sleep(3)"
            ]
        },
        {
            "cell_type": "code",
            "execution_count": 1,
            "id": "usr6uKeM",
            "metadata": {
                "jupyflow": {
                    "height": 0,
                    "left": 0,
                    "next": [
                        "ar5EsnYF"
                    ],
                    "previous": [
                        "uzCwAu2c"
                    ],
                    "top": 0,
                    "width": 0
                }
            },
            "outputs": [
                {
                    "ename": "SyntaxError",
                    "evalue": "invalid syntax (2715196124.py, line 2)",
                    "output_type": "error",
                    "traceback": [
                        "\u001b[0;36m  Cell \u001b[0;32mIn[1], line 2\u001b[0;36m\u001b[0m\n\u001b[0;31m    this is a syntax error\u001b[0m\n\u001b[0m              ^\u001b[0m\n\u001b[0;31mSyntaxError\u001b[0m\u001b[0;31m:\u001b[0m invalid syntax\n"
                    ]
                }
            ],
            "source": [
                "print(\"hi\")\n",
                "this is a syntax error"
            ]
        },
        {
            "cell_type": "code",
            "execution_count": 6,
            "id": "ar5EsnYF",
            "metadata": {
                "jupyflow": {
                    "height": 0,
                    "left": 0,
                    "next": [
                        "jCVgeAOU"
                    ],
                    "previous": [
                        "usr6uKeM"
                    ],
                    "top": 0,
                    "width": 0
                }
            },
            "outputs": [
                {
                    "data": {
                        "text/html": [
                            "<div>\n",
                            "<style scoped>\n",
                            "    .dataframe tbody tr th:only-of-type {\n",
                            "        vertical-align: middle;\n",
                            "    }\n",
                            "\n",
                            "    .dataframe tbody tr th {\n",
                            "        vertical-align: top;\n",
                            "    }\n",
                            "\n",
                            "    .dataframe thead th {\n",
                            "        text-align: right;\n",
                            "    }\n",
                            "</style>\n",
                            "<table border=\"1\" class=\"dataframe\">\n",
                            "  <thead>\n",
                            "    <tr style=\"text-align: right;\">\n",
                            "      <th></th>\n",
                            "      <th>0</th>\n",
                            "      <th>1</th>\n",
                            "      <th>2</th>\n",
                            "      <th>3</th>\n",
                            "      <th>4</th>\n",
                            "      <th>5</th>\n",
                            "      <th>6</th>\n",
                            "      <th>7</th>\n",
                            "      <th>8</th>\n",
                            "      <th>9</th>\n",
                            "      <th>...</th>\n",
                            "      <th>99990</th>\n",
                            "      <th>99991</th>\n",
                            "      <th>99992</th>\n",
                            "      <th>99993</th>\n",
                            "      <th>99994</th>\n",
                            "      <th>99995</th>\n",
                            "      <th>99996</th>\n",
                            "      <th>99997</th>\n",
                            "      <th>99998</th>\n",
                            "      <th>99999</th>\n",
                            "    </tr>\n",
                            "  </thead>\n",
                            "  <tbody>\n",
                            "    <tr>\n",
                            "      <th>0</th>\n",
                            "      <td>-0.256224</td>\n",
                            "      <td>0.301830</td>\n",
                            "      <td>1.947077</td>\n",
                            "      <td>0.825130</td>\n",
                            "      <td>2.011489</td>\n",
                            "      <td>-2.664102</td>\n",
                            "      <td>-0.358889</td>\n",
                            "      <td>1.078819</td>\n",
                            "      <td>1.396297</td>\n",
                            "      <td>0.543784</td>\n",
                            "      <td>...</td>\n",
                            "      <td>0.645276</td>\n",
                            "      <td>-0.906379</td>\n",
                            "      <td>-0.890807</td>\n",
                            "      <td>-2.235803</td>\n",
                            "      <td>-0.825736</td>\n",
                            "      <td>1.757727</td>\n",
                            "      <td>0.255931</td>\n",
                            "      <td>-0.455184</td>\n",
                            "      <td>1.309511</td>\n",
                            "      <td>0.279149</td>\n",
                            "    </tr>\n",
                            "    <tr>\n",
                            "      <th>1</th>\n",
                            "      <td>1.135560</td>\n",
                            "      <td>-1.205509</td>\n",
                            "      <td>-1.461901</td>\n",
                            "      <td>1.047975</td>\n",
                            "      <td>-1.141305</td>\n",
                            "      <td>-1.685314</td>\n",
                            "      <td>2.059407</td>\n",
                            "      <td>-0.823230</td>\n",
                            "      <td>2.242266</td>\n",
                            "      <td>0.462514</td>\n",
                            "      <td>...</td>\n",
                            "      <td>0.113471</td>\n",
                            "      <td>0.516368</td>\n",
                            "      <td>0.852453</td>\n",
                            "      <td>-1.754778</td>\n",
                            "      <td>-0.215392</td>\n",
                            "      <td>-0.493288</td>\n",
                            "      <td>-0.677025</td>\n",
                            "      <td>0.399570</td>\n",
                            "      <td>0.568956</td>\n",
                            "      <td>-0.199467</td>\n",
                            "    </tr>\n",
                            "    <tr>\n",
                            "      <th>2</th>\n",
                            "      <td>1.647530</td>\n",
                            "      <td>0.098662</td>\n",
                            "      <td>-1.150156</td>\n",
                            "      <td>-0.741992</td>\n",
                            "      <td>0.294546</td>\n",
                            "      <td>1.295938</td>\n",
                            "      <td>0.772746</td>\n",
                            "      <td>0.462450</td>\n",
                            "      <td>-0.180420</td>\n",
                            "      <td>-0.468125</td>\n",
                            "      <td>...</td>\n",
                            "      <td>0.487330</td>\n",
                            "      <td>0.202363</td>\n",
                            "      <td>-0.382263</td>\n",
                            "      <td>-1.080097</td>\n",
                            "      <td>-1.008543</td>\n",
                            "      <td>-1.541418</td>\n",
                            "      <td>1.169118</td>\n",
                            "      <td>-0.937836</td>\n",
                            "      <td>-0.528393</td>\n",
                            "      <td>1.449210</td>\n",
                            "    </tr>\n",
                            "    <tr>\n",
                            "      <th>3</th>\n",
                            "      <td>0.736166</td>\n",
                            "      <td>1.888189</td>\n",
                            "      <td>-0.335437</td>\n",
                            "      <td>0.910350</td>\n",
                            "      <td>-2.013358</td>\n",
                            "      <td>0.617397</td>\n",
                            "      <td>1.511891</td>\n",
                            "      <td>0.888932</td>\n",
                            "      <td>-0.136070</td>\n",
                            "      <td>-0.337001</td>\n",
                            "      <td>...</td>\n",
                            "      <td>0.238804</td>\n",
                            "      <td>0.283985</td>\n",
                            "      <td>0.175974</td>\n",
                            "      <td>0.390929</td>\n",
                            "      <td>0.648370</td>\n",
                            "      <td>-0.822699</td>\n",
                            "      <td>-0.783089</td>\n",
                            "      <td>0.518332</td>\n",
                            "      <td>0.909717</td>\n",
                            "      <td>-0.725392</td>\n",
                            "    </tr>\n",
                            "    <tr>\n",
                            "      <th>4</th>\n",
                            "      <td>-0.167723</td>\n",
                            "      <td>0.615236</td>\n",
                            "      <td>0.027297</td>\n",
                            "      <td>0.681248</td>\n",
                            "      <td>-0.408568</td>\n",
                            "      <td>2.108178</td>\n",
                            "      <td>-1.879035</td>\n",
                            "      <td>-0.606364</td>\n",
                            "      <td>-0.585667</td>\n",
                            "      <td>1.468284</td>\n",
                            "      <td>...</td>\n",
                            "      <td>0.491764</td>\n",
                            "      <td>-1.689380</td>\n",
                            "      <td>0.680836</td>\n",
                            "      <td>-2.093483</td>\n",
                            "      <td>0.523184</td>\n",
                            "      <td>-0.303123</td>\n",
                            "      <td>0.476346</td>\n",
                            "      <td>-0.079011</td>\n",
                            "      <td>-0.239837</td>\n",
                            "      <td>-0.998668</td>\n",
                            "    </tr>\n",
                            "    <tr>\n",
                            "      <th>...</th>\n",
                            "      <td>...</td>\n",
                            "      <td>...</td>\n",
                            "      <td>...</td>\n",
                            "      <td>...</td>\n",
                            "      <td>...</td>\n",
                            "      <td>...</td>\n",
                            "      <td>...</td>\n",
                            "      <td>...</td>\n",
                            "      <td>...</td>\n",
                            "      <td>...</td>\n",
                            "      <td>...</td>\n",
                            "      <td>...</td>\n",
                            "      <td>...</td>\n",
                            "      <td>...</td>\n",
                            "      <td>...</td>\n",
                            "      <td>...</td>\n",
                            "      <td>...</td>\n",
                            "      <td>...</td>\n",
                            "      <td>...</td>\n",
                            "      <td>...</td>\n",
                            "      <td>...</td>\n",
                            "    </tr>\n",
                            "    <tr>\n",
                            "      <th>9995</th>\n",
                            "      <td>-0.137773</td>\n",
                            "      <td>-0.301949</td>\n",
                            "      <td>-2.269349</td>\n",
                            "      <td>0.286507</td>\n",
                            "      <td>-0.347885</td>\n",
                            "      <td>-1.092011</td>\n",
                            "      <td>-1.075669</td>\n",
                            "      <td>0.908142</td>\n",
                            "      <td>1.685745</td>\n",
                            "      <td>0.419164</td>\n",
                            "      <td>...</td>\n",
                            "      <td>-1.738362</td>\n",
                            "      <td>-0.570390</td>\n",
                            "      <td>0.167559</td>\n",
                            "      <td>-0.562791</td>\n",
                            "      <td>0.237804</td>\n",
                            "      <td>0.086718</td>\n",
                            "      <td>-1.623729</td>\n",
                            "      <td>-1.571165</td>\n",
                            "      <td>0.202432</td>\n",
                            "      <td>-0.484217</td>\n",
                            "    </tr>\n",
                            "    <tr>\n",
                            "      <th>9996</th>\n",
                            "      <td>0.279518</td>\n",
                            "      <td>-0.064876</td>\n",
                            "      <td>0.427992</td>\n",
                            "      <td>-1.311124</td>\n",
                            "      <td>-0.774513</td>\n",
                            "      <td>0.406387</td>\n",
                            "      <td>-1.004255</td>\n",
                            "      <td>1.248430</td>\n",
                            "      <td>0.157272</td>\n",
                            "      <td>-0.171837</td>\n",
                            "      <td>...</td>\n",
                            "      <td>-0.851987</td>\n",
                            "      <td>0.140978</td>\n",
                            "      <td>-0.819402</td>\n",
                            "      <td>1.253302</td>\n",
                            "      <td>-0.058309</td>\n",
                            "      <td>-0.050027</td>\n",
                            "      <td>0.096574</td>\n",
                            "      <td>0.352346</td>\n",
                            "      <td>-0.520065</td>\n",
                            "      <td>0.226255</td>\n",
                            "    </tr>\n",
                            "    <tr>\n",
                            "      <th>9997</th>\n",
                            "      <td>-0.850799</td>\n",
                            "      <td>-0.775141</td>\n",
                            "      <td>-0.490395</td>\n",
                            "      <td>-1.517641</td>\n",
                            "      <td>-0.231199</td>\n",
                            "      <td>-0.640261</td>\n",
                            "      <td>-1.217420</td>\n",
                            "      <td>-1.562292</td>\n",
                            "      <td>0.916971</td>\n",
                            "      <td>-1.430753</td>\n",
                            "      <td>...</td>\n",
                            "      <td>0.274937</td>\n",
                            "      <td>0.943611</td>\n",
                            "      <td>-0.120866</td>\n",
                            "      <td>0.078889</td>\n",
                            "      <td>2.065365</td>\n",
                            "      <td>-1.294765</td>\n",
                            "      <td>-0.577749</td>\n",
                            "      <td>-0.936326</td>\n",
                            "      <td>1.382581</td>\n",
                            "      <td>0.362636</td>\n",
                            "    </tr>\n",
                            "    <tr>\n",
                            "      <th>9998</th>\n",
                            "      <td>-2.541920</td>\n",
                            "      <td>0.968894</td>\n",
                            "      <td>-0.130810</td>\n",
                            "      <td>0.396778</td>\n",
                            "      <td>1.321464</td>\n",
                            "      <td>-0.390175</td>\n",
                            "      <td>-1.334467</td>\n",
                            "      <td>1.718911</td>\n",
                            "      <td>0.994708</td>\n",
                            "      <td>-1.283702</td>\n",
                            "      <td>...</td>\n",
                            "      <td>1.042045</td>\n",
                            "      <td>-0.431300</td>\n",
                            "      <td>1.024541</td>\n",
                            "      <td>-0.425691</td>\n",
                            "      <td>0.490455</td>\n",
                            "      <td>0.145029</td>\n",
                            "      <td>0.005816</td>\n",
                            "      <td>0.053177</td>\n",
                            "      <td>-0.431163</td>\n",
                            "      <td>1.599098</td>\n",
                            "    </tr>\n",
                            "    <tr>\n",
                            "      <th>9999</th>\n",
                            "      <td>1.423028</td>\n",
                            "      <td>0.032776</td>\n",
                            "      <td>1.516283</td>\n",
                            "      <td>0.670637</td>\n",
                            "      <td>-1.129591</td>\n",
                            "      <td>-1.409311</td>\n",
                            "      <td>-0.789141</td>\n",
                            "      <td>0.094966</td>\n",
                            "      <td>0.493472</td>\n",
                            "      <td>0.373249</td>\n",
                            "      <td>...</td>\n",
                            "      <td>-0.704184</td>\n",
                            "      <td>1.904710</td>\n",
                            "      <td>-0.319129</td>\n",
                            "      <td>0.744617</td>\n",
                            "      <td>0.398090</td>\n",
                            "      <td>-1.344370</td>\n",
                            "      <td>2.172583</td>\n",
                            "      <td>-0.007960</td>\n",
                            "      <td>0.925381</td>\n",
                            "      <td>-2.977073</td>\n",
                            "    </tr>\n",
                            "  </tbody>\n",
                            "</table>\n",
                            "<p>10000 rows × 100000 columns</p>\n",
                            "</div>"
                        ],
                        "text/plain": [
                            "         0         1         2         3         4         5         6      \\\n",
                            "0    -0.256224  0.301830  1.947077  0.825130  2.011489 -2.664102 -0.358889   \n",
                            "1     1.135560 -1.205509 -1.461901  1.047975 -1.141305 -1.685314  2.059407   \n",
                            "2     1.647530  0.098662 -1.150156 -0.741992  0.294546  1.295938  0.772746   \n",
                            "3     0.736166  1.888189 -0.335437  0.910350 -2.013358  0.617397  1.511891   \n",
                            "4    -0.167723  0.615236  0.027297  0.681248 -0.408568  2.108178 -1.879035   \n",
                            "...        ...       ...       ...       ...       ...       ...       ...   \n",
                            "9995 -0.137773 -0.301949 -2.269349  0.286507 -0.347885 -1.092011 -1.075669   \n",
                            "9996  0.279518 -0.064876  0.427992 -1.311124 -0.774513  0.406387 -1.004255   \n",
                            "9997 -0.850799 -0.775141 -0.490395 -1.517641 -0.231199 -0.640261 -1.217420   \n",
                            "9998 -2.541920  0.968894 -0.130810  0.396778  1.321464 -0.390175 -1.334467   \n",
                            "9999  1.423028  0.032776  1.516283  0.670637 -1.129591 -1.409311 -0.789141   \n",
                            "\n",
                            "         7         8         9      ...     99990     99991     99992  \\\n",
                            "0     1.078819  1.396297  0.543784  ...  0.645276 -0.906379 -0.890807   \n",
                            "1    -0.823230  2.242266  0.462514  ...  0.113471  0.516368  0.852453   \n",
                            "2     0.462450 -0.180420 -0.468125  ...  0.487330  0.202363 -0.382263   \n",
                            "3     0.888932 -0.136070 -0.337001  ...  0.238804  0.283985  0.175974   \n",
                            "4    -0.606364 -0.585667  1.468284  ...  0.491764 -1.689380  0.680836   \n",
                            "...        ...       ...       ...  ...       ...       ...       ...   \n",
                            "9995  0.908142  1.685745  0.419164  ... -1.738362 -0.570390  0.167559   \n",
                            "9996  1.248430  0.157272 -0.171837  ... -0.851987  0.140978 -0.819402   \n",
                            "9997 -1.562292  0.916971 -1.430753  ...  0.274937  0.943611 -0.120866   \n",
                            "9998  1.718911  0.994708 -1.283702  ...  1.042045 -0.431300  1.024541   \n",
                            "9999  0.094966  0.493472  0.373249  ... -0.704184  1.904710 -0.319129   \n",
                            "\n",
                            "         99993     99994     99995     99996     99997     99998     99999  \n",
                            "0    -2.235803 -0.825736  1.757727  0.255931 -0.455184  1.309511  0.279149  \n",
                            "1    -1.754778 -0.215392 -0.493288 -0.677025  0.399570  0.568956 -0.199467  \n",
                            "2    -1.080097 -1.008543 -1.541418  1.169118 -0.937836 -0.528393  1.449210  \n",
                            "3     0.390929  0.648370 -0.822699 -0.783089  0.518332  0.909717 -0.725392  \n",
                            "4    -2.093483  0.523184 -0.303123  0.476346 -0.079011 -0.239837 -0.998668  \n",
                            "...        ...       ...       ...       ...       ...       ...       ...  \n",
                            "9995 -0.562791  0.237804  0.086718 -1.623729 -1.571165  0.202432 -0.484217  \n",
                            "9996  1.253302 -0.058309 -0.050027  0.096574  0.352346 -0.520065  0.226255  \n",
                            "9997  0.078889  2.065365 -1.294765 -0.577749 -0.936326  1.382581  0.362636  \n",
                            "9998 -0.425691  0.490455  0.145029  0.005816  0.053177 -0.431163  1.599098  \n",
                            "9999  0.744617  0.398090 -1.344370  2.172583 -0.007960  0.925381 -2.977073  \n",
                            "\n",
                            "[10000 rows x 100000 columns]"
                        ]
                    },
                    "execution_count": 6,
                    "metadata": {},
                    "output_type": "execute_result"
                }
            ],
            "source": [
                "import pandas as pd\n",
                "import numpy as np\n",
                "\n",
                "df = pd.DataFrame(np.random.randn(10000, 100000))\n",
                "df "
            ]
        },
        {
            "attachments": {},
            "cell_type": "markdown",
            "id": "jCVgeAOU",
            "metadata": {
                "jupyflow": {
                    "height": 0,
                    "left": 0,
                    "next": [
                        "hoq5-hE0"
                    ],
                    "previous": [
                        "ar5EsnYF"
                    ],
                    "top": 0,
                    "width": 0
                }
            },
            "source": [
                "### A Heading 3\n",
                "followed by some text"
            ]
        },
        {
            "cell_type": "code",
            "execution_count": 1,
            "id": "hoq5-hE0",
            "metadata": {
                "jupyflow": {
                    "height": 0,
                    "left": 0,
                    "next": [
                        "-HSF1mVd"
                    ],
                    "previous": [
                        "jCVgeAOU"
                    ],
                    "top": 0,
                    "width": 0
                }
            },
            "outputs": [
                {
                    "data": {
                        "text/plain": [
                            "'some things'"
                        ]
                    },
                    "metadata": {},
                    "output_type": "display_data"
                },
                {
                    "name": "stdout",
                    "output_type": "stream",
                    "text": [
                        "things\n"
                    ]
                },
                {
                    "data": {
                        "text/plain": [
                            "'more things'"
                        ]
                    },
                    "metadata": {},
                    "output_type": "display_data"
                },
                {
                    "name": "stdout",
                    "output_type": "stream",
                    "text": [
                        "more more things\n",
                        "more more more things \n",
                        " la la la\n",
                        "more more more more things  more\n"
                    ]
                }
            ],
            "source": [
                "display(\"some things\")\n",
                "print(\"things\")\n",
                "display(\"more things\")\n",
                "print(\"more more things\")\n",
                "print(\"more more more things \\n la la la\")\n",
                "print(\"more more more more things \", \"more\")"
            ]
        },
        {
            "cell_type": "code",
            "execution_count": null,
            "id": "-HSF1mVd",
            "metadata": {
                "jupyflow": {
                    "height": 0,
                    "left": 0,
                    "next": [],
                    "previous": [
                        "hoq5-hE0"
                    ],
                    "top": 100,
                    "width": 0
                }
            },
            "outputs": [],
            "source": []
        }
    ],
    "metadata": {
        "jupyflow": {
            "canvas": {
                "scroll": {
                    "x": 0,
                    "y": 0
                },
                "zoom": 1
            },
            "id_map": {
                "-HSF1mVd": 9,
                "DqkqC5pZ": 3,
                "RyV6RN3G": 0,
                "ar5EsnYF": 6,
                "b0j88qz4": 2,
                "hoq5-hE0": 8,
                "jCVgeAOU": 7,
                "usr6uKeM": 5,
                "uzCwAu2c": 4,
                "wqD4rG4l": 1
            }
        },
        "kernelspec": {
            "display_name": "jupyflow",
            "language": "python",
            "name": "python3"
        },
        "language_info": {
            "codemirror_mode": {
                "name": "ipython",
                "version": 3
            },
            "file_extension": ".py",
            "mimetype": "text/x-python",
            "name": "python",
            "nbconvert_exporter": "python",
            "pygments_lexer": "ipython3",
            "version": "3.11.1"
        },
        "orig_nbformat": 4,
        "vscode": {
            "interpreter": {
                "hash": "566aecfaef151c426b2c4574bf3a4b88399c987357f7809868a285613564ff66"
            }
        }
    },
    "nbformat": 4,
    "nbformat_minor": 2
}
