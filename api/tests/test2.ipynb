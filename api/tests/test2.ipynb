{
    "cells": [
        {
            "cell_type": "code",
            "execution_count": 2,
            "id": "RyV6RN3G",
            "metadata": {
                "jupyflow": {
                    "height": 0,
                    "left": 0,
                    "next": [
                        "wqD4rG4l"
                    ],
                    "previous": [],
                    "top": 100,
                    "width": 0
                }
            },
            "outputs": [
                {
                    "data": {
                        "text/plain": [
                            "4"
                        ]
                    },
                    "execution_count": 2,
                    "metadata": {},
                    "output_type": "execute_result"
                }
            ],
            "source": [
                "2+2"
            ]
        },
        {
            "cell_type": "code",
            "execution_count": 1,
            "id": "wqD4rG4l",
            "metadata": {
                "jupyflow": {
                    "height": 0,
                    "left": 0,
                    "next": [
                        "b0j88qz4"
                    ],
                    "previous": [
                        "RyV6RN3G"
                    ],
                    "top": 100,
                    "width": 0
                }
            },
            "outputs": [],
            "source": [
                "import math\n",
                "\n",
                "def goldenRatio(n):\n",
                "    return ((1 + math.sqrt(5))/2) * round(goldenRatio(1), 3) == 1.618"
            ]
        },
        {
            "cell_type": "code",
            "execution_count": 1,
            "id": "b0j88qz4",
            "metadata": {
                "jupyflow": {
                    "height": 0,
                    "left": 0,
                    "next": [
                        "DqkqC5pZ"
                    ],
                    "previous": [
                        "wqD4rG4l"
                    ],
                    "top": 0,
                    "width": 0
                }
            },
            "outputs": [
                {
                    "name": "stdout",
                    "output_type": "stream",
                    "text": [
                        "stuff\n",
                        "more stuff\n"
                    ]
                }
            ],
            "source": [
                "print(\"stuff\")\n",
                "print(\"more stuff\")\n",
                "print(\"some more stuff\")"
            ]
        },
        {
            "cell_type": "code",
            "execution_count": 1,
            "id": "DqkqC5pZ",
            "metadata": {
                "jupyflow": {
                    "height": 0,
                    "left": 0,
                    "next": [
                        "uzCwAu2c"
                    ],
                    "previous": [
                        "b0j88qz4"
                    ],
                    "top": 0,
                    "width": 0
                }
            },
            "outputs": [
                {
                    "name": "stdout",
                    "output_type": "stream",
                    "text": [
                        "some more stuff\n"
                    ]
                }
            ],
            "source": [
                "print(\"some more stuff\")"
            ]
        },
        {
            "cell_type": "code",
            "execution_count": 2,
            "id": "uzCwAu2c",
            "metadata": {
                "jupyflow": {
                    "height": 0,
                    "left": 0,
                    "next": [
                        "usr6uKeM"
                    ],
                    "previous": [
                        "DqkqC5pZ"
                    ],
                    "top": 0,
                    "width": 0
                }
            },
            "outputs": [],
            "source": [
                "from time import sleep\n",
                "sleep(2)\n",
                "sleep(3)"
            ]
        },
        {
            "cell_type": "code",
            "execution_count": 1,
            "id": "usr6uKeM",
            "metadata": {
                "jupyflow": {
                    "height": 0,
                    "left": 0,
                    "next": [
                        "ar5EsnYF"
                    ],
                    "previous": [
                        "uzCwAu2c"
                    ],
                    "top": 0,
                    "width": 0
                }
            },
            "outputs": [
                {
                    "ename": "SyntaxError",
                    "evalue": "invalid syntax (2715196124.py, line 2)",
                    "output_type": "error",
                    "traceback": [
                        "\u001b[0;36m  Cell \u001b[0;32mIn[1], line 2\u001b[0;36m\u001b[0m\n\u001b[0;31m    this is a syntax error\u001b[0m\n\u001b[0m              ^\u001b[0m\n\u001b[0;31mSyntaxError\u001b[0m\u001b[0;31m:\u001b[0m invalid syntax\n"
                    ]
                }
            ],
            "source": [
                "print(\"hi\")\n",
                "this is a syntax error"
            ]
        },
        {
            "cell_type": "code",
            "execution_count": 1,
            "id": "ar5EsnYF",
            "metadata": {
                "jupyflow": {
                    "height": 0,
                    "left": 0,
                    "next": [
                        "jCVgeAOU"
                    ],
                    "previous": [
                        "usr6uKeM"
                    ],
                    "top": 0,
                    "width": 0
                }
            },
            "outputs": [
                {
                    "ename": "KeyboardInterrupt",
                    "evalue": "",
                    "output_type": "error",
                    "traceback": [
                        "\u001b[0;31m---------------------------------------------------------------------------\u001b[0m",
                        "\u001b[0;31mKeyboardInterrupt\u001b[0m                         Traceback (most recent call last)",
                        "Cell \u001b[0;32mIn[1], line 4\u001b[0m\n\u001b[1;32m      1\u001b[0m \u001b[39mimport\u001b[39;00m \u001b[39mpandas\u001b[39;00m \u001b[39mas\u001b[39;00m \u001b[39mpd\u001b[39;00m\n\u001b[1;32m      2\u001b[0m \u001b[39mimport\u001b[39;00m \u001b[39mnumpy\u001b[39;00m \u001b[39mas\u001b[39;00m \u001b[39mnp\u001b[39;00m\n\u001b[0;32m----> 4\u001b[0m df \u001b[39m=\u001b[39m pd\u001b[39m.\u001b[39mDataFrame(np\u001b[39m.\u001b[39;49mrandom\u001b[39m.\u001b[39;49mrandn(\u001b[39m10000\u001b[39;49m, \u001b[39m100000\u001b[39;49m))\n\u001b[1;32m      5\u001b[0m df \n",
                        "\u001b[0;31mKeyboardInterrupt\u001b[0m: "
                    ]
                }
            ],
            "source": [
                "import pandas as pd\n",
                "import numpy as np\n",
                "\n",
                "df = pd.DataFrame(np.random.randn(10000, 100000))\n",
                "df "
            ]
        },
        {
            "attachments": {},
            "cell_type": "markdown",
            "id": "jCVgeAOU",
            "metadata": {
                "jupyflow": {
                    "height": 0,
                    "left": 0,
                    "next": [
                        "hoq5-hE0"
                    ],
                    "previous": [
                        "ar5EsnYF"
                    ],
                    "top": 0,
                    "width": 0
                }
            },
            "source": [
                "### A Heading 3\n",
                "followed by some text"
            ]
        },
        {
            "cell_type": "code",
            "execution_count": 1,
            "id": "hoq5-hE0",
            "metadata": {
                "jupyflow": {
                    "height": 0,
                    "left": 0,
                    "next": [
                        "-HSF1mVd"
                    ],
                    "previous": [
                        "jCVgeAOU"
                    ],
                    "top": 0,
                    "width": 0
                }
            },
            "outputs": [
                {
                    "data": {
                        "text/plain": [
                            "'some things'"
                        ]
                    },
                    "metadata": {},
                    "output_type": "display_data"
                },
                {
                    "name": "stdout",
                    "output_type": "stream",
                    "text": [
                        "things\n"
                    ]
                },
                {
                    "data": {
                        "text/plain": [
                            "'more things'"
                        ]
                    },
                    "metadata": {},
                    "output_type": "display_data"
                },
                {
                    "name": "stdout",
                    "output_type": "stream",
                    "text": [
                        "more more things\n",
                        "more more more things \n",
                        " la la la\n",
                        "more more more more things  more\n"
                    ]
                }
            ],
            "source": [
                "display(\"some things\")\n",
                "print(\"things\")\n",
                "display(\"more things\")\n",
                "print(\"more more things\")\n",
                "print(\"more more more things \\n la la la\")\n",
                "print(\"more more more more things \", \"more\")"
            ]
        },
        {
            "attachments": {},
            "cell_type": "markdown",
            "id": "-HSF1mVd",
            "metadata": {
                "jupyflow": {
                    "height": 0,
                    "left": 0,
                    "next": [],
                    "previous": [
                        "hoq5-hE0"
                    ],
                    "top": 100,
                    "width": 0
                }
            },
            "source": [
                "sdfklsdf"
            ]
        },
        {
            "cell_type": "code",
            "execution_count": null,
            "metadata": {},
            "outputs": [],
            "source": [
                "print(\"something\")"
            ]
        }
    ],
    "metadata": {
        "jupyflow": {
            "canvas": {
                "scroll": {
                    "x": 0,
                    "y": 0
                },
                "zoom": 1
            },
            "id_map": {
                "-HSF1mVd": 9,
                "DqkqC5pZ": 3,
                "RyV6RN3G": 0,
                "ar5EsnYF": 6,
                "b0j88qz4": 2,
                "hoq5-hE0": 8,
                "jCVgeAOU": 7,
                "usr6uKeM": 5,
                "uzCwAu2c": 4,
                "wqD4rG4l": 1
            }
        },
        "kernelspec": {
            "display_name": "jupyflow",
            "language": "python",
            "name": "python3"
        },
        "language_info": {
            "codemirror_mode": {
                "name": "ipython",
                "version": 3
            },
            "file_extension": ".py",
            "mimetype": "text/x-python",
            "name": "python",
            "nbconvert_exporter": "python",
            "pygments_lexer": "ipython3",
            "version": "3.11.1"
        },
        "orig_nbformat": 4,
        "vscode": {
            "interpreter": {
                "hash": "566aecfaef151c426b2c4574bf3a4b88399c987357f7809868a285613564ff66"
            }
        }
    },
    "nbformat": 4,
    "nbformat_minor": 2
}
